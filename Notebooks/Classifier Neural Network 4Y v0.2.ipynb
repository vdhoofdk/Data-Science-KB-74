{
 "cells": [
  {
   "cell_type": "code",
   "execution_count": 27,
   "metadata": {},
   "outputs": [],
   "source": [
    "import numpy as np\n",
    "import pandas as pd\n",
    "import matplotlib.pyplot as plt\n",
    "from mpl_toolkits.mplot3d import Axes3D\n",
    "import time\n",
    "%matplotlib notebook\n",
    "import seaborn as sns\n",
    "from scipy.special import expit as logit\n",
    "from sklearn.model_selection import train_test_split\n",
    "from scipy.special import expit as sigmoid # is more stable in case of overflows\n",
    "from sklearn.linear_model import LogisticRegression\n",
    "from sklearn.neighbors import KNeighborsClassifier\n",
    "from sklearn import metrics\n",
    "from sklearn.linear_model import LinearRegression\n",
    "from sklearn.metrics import mean_squared_error, \\\n",
    "recall_score, precision_score, accuracy_score, confusion_matrix, classification_report\n",
    "import math\n",
    "from sklearn.neural_network import MLPClassifier\n",
    "from sklearn.model_selection import train_test_split\n",
    "from sklearn.metrics import accuracy_score\n",
    "from sklearn.metrics import confusion_matrix\n",
    "\n"
   ]
  },
  {
   "cell_type": "markdown",
   "metadata": {},
   "source": [
    "# Prepare data"
   ]
  },
  {
   "cell_type": "code",
   "execution_count": 2,
   "metadata": {
    "scrolled": true
   },
   "outputs": [],
   "source": [
    "df_cleaned = pd.read_csv('/data/ortho/AllPatients.csv',  sep= ';')\n"
   ]
  },
  {
   "cell_type": "code",
   "execution_count": 3,
   "metadata": {
    "scrolled": true
   },
   "outputs": [],
   "source": [
    "# bereken symmetrie\n",
    "df_cleaned['clavicula_x_dif'] = np.absolute(df_cleaned['clavicula_l_x'] - df_cleaned['clavicula_r_x'])\n",
    "df_cleaned['clavicula_y_dif'] = np.absolute(df_cleaned['clavicula_l_y'] - df_cleaned['clavicula_r_y'])\n",
    "df_cleaned['clavicula_z_dif'] = np.absolute(df_cleaned['clavicula_l_z'] - df_cleaned['clavicula_r_z'])\n",
    "\n",
    "df_cleaned['scapula_x_dif'] = np.absolute(df_cleaned['scapula_l_x'] - df_cleaned['scapula_r_x'])\n",
    "df_cleaned['scapula_y_dif'] = np.absolute(df_cleaned['scapula_l_y'] - df_cleaned['scapula_r_y'])\n",
    "df_cleaned['scapula_z_dif'] = np.absolute(df_cleaned['scapula_l_z'] - df_cleaned['scapula_r_z'])\n",
    "\n",
    "df_cleaned['humerus_x_dif'] = np.absolute(df_cleaned['humerus_l_x'] - df_cleaned['humerus_r_x'])\n",
    "df_cleaned['humerus_y_dif'] = np.absolute(df_cleaned['humerus_l_y'] - df_cleaned['humerus_r_y'])\n",
    "df_cleaned['humerus_z_dif'] = np.absolute(df_cleaned['humerus_l_z'] - df_cleaned['humerus_r_z'])\n",
    "\n",
    "# hulp array, met alle parameters die voor de classifier gebruikt worden, je kan hier alles in doen wat je wilt\n",
    "param = [ \\\n",
    "          'humerus_l_x', 'humerus_l_y', 'humerus_l_z', 'humerus_r_x', 'humerus_r_y', 'humerus_r_z', \\\n",
    "          'clavicula_l_x', 'clavicula_l_y', 'clavicula_l_z', 'clavicula_r_x', 'clavicula_r_y', 'clavicula_r_z', \\\n",
    "          'scapula_l_x', 'scapula_l_y', 'scapula_l_z', 'scapula_r_x', 'scapula_r_y', 'scapula_r_z', \\\n",
    "          'clavicula_x_dif','clavicula_y_dif','clavicula_z_dif', \\\n",
    "          'scapula_x_dif','scapula_y_dif','scapula_z_dif', \\\n",
    "          'humerus_x_dif', 'humerus_y_dif', 'humerus_z_dif'\n",
    "         ]\n",
    "\n",
    "df_cleaned['bias'] = 1\n",
    "\n",
    "# split oorsprong kolom in onderdelen\n",
    "x,y = df_cleaned['Oorsprong'].str.split(\".\").str #Oordprong word vertaald naar een string en wordt gesplits op de punt\n",
    "df_cleaned['cat'],df_cleaned['pat'],df_cleaned['meting'],df_cleaned['oef'] = x.str.split(\"_\").str #4 categorieen gemaakt obv file name\n",
    "df_cleaned['cat'] = [ int(x[3:]) for x in df_cleaned['cat']] #voor elk 3+ element in de kolom wordt vertaald naar een int\n",
    "df_cleaned['meting'] = [ int(x[6:]) for x in df_cleaned['meting']] \n",
    "df_cleaned['oef'] = [ int(x[3:]) for x in df_cleaned['oef']] \n",
    "df_cleaned['pat'] = [ int(x[3:]) for x in df_cleaned['pat']] \n",
    "#na deze regels te hebben uitgevoerd zijn er nieuwe categorieen met ints.\n",
    "\n",
    "df_cleaned['pat'] = df_cleaned['cat']*1000+df_cleaned['pat'] #geef elke patient een uniek nummer\n",
    "\n",
    "#maak boolean kolom per categorie\n",
    "df_cleaned['c4'] = ['Cat4' in vincent for vincent in df_cleaned['Oorsprong']]\n",
    "df_cleaned['c3'] = ['Cat3' in vincent for vincent in df_cleaned['Oorsprong']]\n",
    "df_cleaned['c2'] = ['Cat2' in vincent for vincent in df_cleaned['Oorsprong']]\n",
    "df_cleaned['c1'] = ['Cat1' in vincent for vincent in df_cleaned['Oorsprong']]\n",
    "\n",
    "df_cleaned['y'] = [('Cat1' or 'Cat2') in vincent for vincent in df_cleaned['Oorsprong']]\n",
    "\n",
    "\n",
    "# df_cleaned = df_cleaned[~df_cleaned.c3]\n",
    "# df_cleaned = df_cleaned[~df_cleaned.c2]\n",
    "\n",
    "\n",
    "\n",
    "Xcolumns = ['bias']\n",
    "Xcolumns.extend(param)\n",
    "\n",
    "X = df_cleaned[Xcolumns]\n",
    "y = df_cleaned['cat']\n"
   ]
  },
  {
   "cell_type": "code",
   "execution_count": 4,
   "metadata": {
    "scrolled": true
   },
   "outputs": [
    {
     "name": "stdout",
     "output_type": "stream",
     "text": [
      "Iteration 1, loss = 0.96245558\n",
      "Iteration 2, loss = 0.51692942\n",
      "Iteration 3, loss = 0.39740060\n",
      "Iteration 4, loss = 0.31450031\n",
      "Iteration 5, loss = 0.25596223\n",
      "Iteration 6, loss = 0.21194150\n",
      "Iteration 7, loss = 0.18586266\n",
      "Iteration 8, loss = 0.15971895\n",
      "Iteration 9, loss = 0.14050232\n",
      "Iteration 10, loss = 0.12656003\n",
      "Iteration 11, loss = 0.11519915\n",
      "Iteration 12, loss = 0.10304618\n",
      "Iteration 13, loss = 0.09704509\n",
      "Iteration 14, loss = 0.09172932\n",
      "Iteration 15, loss = 0.08435938\n",
      "Iteration 16, loss = 0.07956641\n",
      "Iteration 17, loss = 0.07539263\n",
      "Iteration 18, loss = 0.06902535\n",
      "Iteration 19, loss = 0.06622148\n",
      "Iteration 20, loss = 0.06420044\n",
      "Iteration 21, loss = 0.06062173\n",
      "Iteration 22, loss = 0.05674161\n",
      "Iteration 23, loss = 0.05748287\n",
      "Iteration 24, loss = 0.05415031\n",
      "Iteration 25, loss = 0.05379200\n",
      "Iteration 26, loss = 0.04922842\n",
      "Iteration 27, loss = 0.04682345\n",
      "Iteration 28, loss = 0.04729338\n",
      "Iteration 29, loss = 0.04723573\n",
      "Iteration 30, loss = 0.04480628\n",
      "Iteration 31, loss = 0.04276751\n",
      "Iteration 32, loss = 0.04166531\n",
      "Iteration 33, loss = 0.04287271\n",
      "Iteration 34, loss = 0.03992370\n",
      "Iteration 35, loss = 0.03763834\n",
      "Iteration 36, loss = 0.03642232\n",
      "Iteration 37, loss = 0.03785233\n",
      "Iteration 38, loss = 0.03371585\n",
      "Iteration 39, loss = 0.03961722\n",
      "Iteration 40, loss = 0.03433475\n",
      "Iteration 41, loss = 0.03688179\n",
      "Iteration 42, loss = 0.03340307\n",
      "Iteration 43, loss = 0.03193577\n",
      "Iteration 44, loss = 0.03719613\n",
      "Iteration 45, loss = 0.03052414\n",
      "Iteration 46, loss = 0.02664014\n",
      "Iteration 47, loss = 0.03228257\n",
      "Iteration 48, loss = 0.02873289\n",
      "Iteration 49, loss = 0.03254757\n",
      "Iteration 50, loss = 0.03015751\n",
      "Iteration 51, loss = 0.02935333\n",
      "Iteration 52, loss = 0.02865733\n",
      "Iteration 53, loss = 0.02781738\n",
      "Iteration 54, loss = 0.02581339\n",
      "Iteration 55, loss = 0.03004219\n",
      "Iteration 56, loss = 0.02401210\n",
      "Iteration 57, loss = 0.03335247\n",
      "Iteration 58, loss = 0.02664632\n",
      "Iteration 59, loss = 0.02418181\n",
      "Iteration 60, loss = 0.02452447\n",
      "Iteration 61, loss = 0.02745822\n",
      "Iteration 62, loss = 0.02850979\n",
      "Iteration 63, loss = 0.02387937\n",
      "Iteration 64, loss = 0.02408595\n",
      "Iteration 65, loss = 0.02507152\n",
      "Iteration 66, loss = 0.02398930\n",
      "Iteration 67, loss = 0.02808581\n",
      "Iteration 68, loss = 0.02298988\n",
      "Iteration 69, loss = 0.02446883\n",
      "Iteration 70, loss = 0.02129316\n",
      "Iteration 71, loss = 0.02489621\n",
      "Iteration 72, loss = 0.02228853\n",
      "Iteration 73, loss = 0.02694620\n",
      "Iteration 74, loss = 0.02077228\n",
      "Iteration 75, loss = 0.02082492\n",
      "Iteration 76, loss = 0.02314723\n",
      "Iteration 77, loss = 0.02414694\n",
      "Iteration 78, loss = 0.01846075\n",
      "Iteration 79, loss = 0.02246372\n",
      "Iteration 80, loss = 0.02294284\n",
      "Iteration 81, loss = 0.01981374\n",
      "Iteration 82, loss = 0.02628974\n",
      "Iteration 83, loss = 0.01976681\n",
      "Iteration 84, loss = 0.02227250\n",
      "Iteration 85, loss = 0.02057800\n",
      "Iteration 86, loss = 0.02558483\n",
      "Iteration 87, loss = 0.01819927\n",
      "Iteration 88, loss = 0.02111505\n",
      "Iteration 89, loss = 0.02135601\n",
      "Iteration 90, loss = 0.01852170\n",
      "Iteration 91, loss = 0.02264389\n",
      "Iteration 92, loss = 0.01758456\n",
      "Iteration 93, loss = 0.02071007\n",
      "Iteration 94, loss = 0.02158770\n",
      "Iteration 95, loss = 0.02000469\n",
      "Iteration 96, loss = 0.01685442\n",
      "Iteration 97, loss = 0.02019753\n",
      "Iteration 98, loss = 0.02157939\n",
      "Iteration 99, loss = 0.01854253\n",
      "Iteration 100, loss = 0.02216836\n",
      "Iteration 101, loss = 0.01650802\n",
      "Iteration 102, loss = 0.01994982\n",
      "Iteration 103, loss = 0.01758885\n",
      "Iteration 104, loss = 0.01583337\n",
      "Iteration 105, loss = 0.02596280\n",
      "Iteration 106, loss = 0.01604680\n",
      "Iteration 107, loss = 0.01987579\n",
      "Iteration 108, loss = 0.01834228\n",
      "Iteration 109, loss = 0.01797749\n",
      "Iteration 110, loss = 0.01911457\n",
      "Iteration 111, loss = 0.01605288\n",
      "Iteration 112, loss = 0.01629347\n",
      "Iteration 113, loss = 0.01975542\n",
      "Iteration 114, loss = 0.01873346\n",
      "Iteration 115, loss = 0.01938324\n",
      "Training loss did not improve more than tol=0.000010 for 10 consecutive epochs. Stopping.\n"
     ]
    },
    {
     "data": {
      "text/plain": [
       "MLPClassifier(activation='relu', alpha=0.0001, batch_size='auto', beta_1=0.9,\n",
       "       beta_2=0.999, early_stopping=False, epsilon=1e-08,\n",
       "       hidden_layer_sizes=(50, 40, 50), learning_rate='adaptive',\n",
       "       learning_rate_init=0.001, max_iter=200, momentum=0.9,\n",
       "       n_iter_no_change=10, nesterovs_momentum=True, power_t=0.5,\n",
       "       random_state=21, shuffle=True, solver='adam', tol=1e-05,\n",
       "       validation_fraction=0.1, verbose=10, warm_start=False)"
      ]
     },
     "execution_count": 4,
     "metadata": {},
     "output_type": "execute_result"
    }
   ],
   "source": [
    "X_train, X_test, y_train, y_test = train_test_split(X, y, test_size = 0.2, random_state=42)\n",
    "\n",
    "lr = MLPClassifier(hidden_layer_sizes=(50,40,50),solver='adam',random_state=21,tol=0.00001,learning_rate='adaptive',verbose=10)\n",
    "lr.fit(X_train, y_train)"
   ]
  },
  {
   "cell_type": "code",
   "execution_count": 32,
   "metadata": {
    "scrolled": true
   },
   "outputs": [
    {
     "name": "stdout",
     "output_type": "stream",
     "text": [
      "              precision    recall  f1-score   support\n",
      "\n",
      "           1       1.00      0.99      0.99      6732\n",
      "           2       0.99      0.99      0.99     13709\n",
      "           3       0.99      0.99      0.99     11767\n",
      "           4       0.97      1.00      0.98      2081\n",
      "\n",
      "   micro avg       0.99      0.99      0.99     34289\n",
      "   macro avg       0.99      0.99      0.99     34289\n",
      "weighted avg       0.99      0.99      0.99     34289\n",
      "\n"
     ]
    }
   ],
   "source": [
    "y_true = np.array(list(y_test))\n",
    "y_pred = lr.predict(X_test)\n",
    "\n",
    "print(classification_report(y_true, y_pred))"
   ]
  },
  {
   "cell_type": "code",
   "execution_count": 11,
   "metadata": {},
   "outputs": [],
   "source": [
    "# pd.DataFrame(data=np.array([y_true, y_pred]).transpose()).to_csv('ding.csv', sep=';')"
   ]
  },
  {
   "cell_type": "code",
   "execution_count": null,
   "metadata": {},
   "outputs": [],
   "source": [
    "print(y_pred)\n",
    "print(np.array(list(y_true)))"
   ]
  },
  {
   "cell_type": "code",
   "execution_count": 35,
   "metadata": {},
   "outputs": [
    {
     "data": {
      "text/plain": [
       "bias                1.000000\n",
       "humerus_l_x       -14.795214\n",
       "humerus_l_y        24.712489\n",
       "humerus_l_z         2.513341\n",
       "humerus_r_x       -22.542404\n",
       "humerus_r_y        30.057947\n",
       "humerus_r_z        28.624200\n",
       "clavicula_l_x     -21.161110\n",
       "clavicula_l_y       7.286641\n",
       "clavicula_l_z      -5.905727\n",
       "clavicula_r_x     -32.969301\n",
       "clavicula_r_y      11.101866\n",
       "clavicula_r_z      -5.434937\n",
       "scapula_l_x        28.917902\n",
       "scapula_l_y        -4.272502\n",
       "scapula_l_z        -7.321711\n",
       "scapula_r_x        19.738314\n",
       "scapula_r_y        -4.577091\n",
       "scapula_r_z        -9.564550\n",
       "clavicula_x_dif    11.808191\n",
       "clavicula_y_dif     3.815225\n",
       "clavicula_z_dif     0.470791\n",
       "scapula_x_dif       9.179588\n",
       "scapula_y_dif       0.304589\n",
       "scapula_z_dif       2.242839\n",
       "humerus_x_dif       7.747190\n",
       "humerus_y_dif       5.345458\n",
       "humerus_z_dif      26.110859\n",
       "Name: 0, dtype: float64"
      ]
     },
     "execution_count": 35,
     "metadata": {},
     "output_type": "execute_result"
    }
   ],
   "source": [
    "df_cleaned[Xcolumns].iloc[0]"
   ]
  }
 ],
 "metadata": {
  "kernelspec": {
   "display_name": "Python 3",
   "language": "python",
   "name": "python3"
  },
  "language_info": {
   "codemirror_mode": {
    "name": "ipython",
    "version": 3
   },
   "file_extension": ".py",
   "mimetype": "text/x-python",
   "name": "python",
   "nbconvert_exporter": "python",
   "pygments_lexer": "ipython3",
   "version": "3.6.7"
  }
 },
 "nbformat": 4,
 "nbformat_minor": 2
}
