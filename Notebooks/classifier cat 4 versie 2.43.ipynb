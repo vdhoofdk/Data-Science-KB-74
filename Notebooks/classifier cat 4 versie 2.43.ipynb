{
 "cells": [
  {
   "cell_type": "code",
   "execution_count": null,
   "metadata": {},
   "outputs": [],
   "source": [
    "import numpy as np\n",
    "import pandas as pd\n",
    "import matplotlib.pyplot as plt\n",
    "from mpl_toolkits.mplot3d import Axes3D\n",
    "import time\n",
    "%matplotlib notebook\n",
    "import load_raw as Raw\n",
    "import seaborn as sns\n",
    "from scipy.special import expit as logit\n",
    "from sklearn.model_selection import train_test_split\n",
    "from scipy.special import expit as sigmoid # is more stable in case of overflows\n",
    "from sklearn.linear_model import LogisticRegression\n",
    "from sklearn.neighbors import KNeighborsClassifier\n",
    "from sklearn import metrics\n"
   ]
  },
  {
   "cell_type": "code",
   "execution_count": null,
   "metadata": {
    "scrolled": true
   },
   "outputs": [],
   "source": [
    "df_cleaned = pd.read_csv('/data/ortho/AllPatients.csv',  sep= ';')\n",
    "\n",
    "# x is naar rechts\n",
    "# y is omhoog\n",
    "# z is rotatie????"
   ]
  },
  {
   "cell_type": "code",
   "execution_count": null,
   "metadata": {
    "scrolled": true
   },
   "outputs": [],
   "source": [
    "# bereken symmetrie\n",
    "df_cleaned['clavicula_x_dif'] = np.absolute(df_cleaned['clavicula_l_x'] - df_cleaned['clavicula_r_x'])\n",
    "df_cleaned['clavicula_y_dif'] = np.absolute(df_cleaned['clavicula_l_y'] - df_cleaned['clavicula_r_y'])\n",
    "df_cleaned['clavicula_z_dif'] = np.absolute(df_cleaned['clavicula_l_z'] - df_cleaned['clavicula_r_z'])\n",
    "\n",
    "df_cleaned['scapula_x_dif'] = np.absolute(df_cleaned['scapula_l_x'] - df_cleaned['scapula_r_x'])\n",
    "df_cleaned['scapula_y_dif'] = np.absolute(df_cleaned['scapula_l_y'] - df_cleaned['scapula_r_y'])\n",
    "df_cleaned['scapula_z_dif'] = np.absolute(df_cleaned['scapula_l_z'] - df_cleaned['scapula_r_z'])\n",
    "\n",
    "df_cleaned['humerus_x_dif'] = np.absolute(df_cleaned['humerus_l_x'] - df_cleaned['humerus_r_x'])\n",
    "df_cleaned['humerus_y_dif'] = np.absolute(df_cleaned['humerus_l_y'] - df_cleaned['humerus_r_y'])\n",
    "df_cleaned['humerus_z_dif'] = np.absolute(df_cleaned['humerus_l_z'] - df_cleaned['humerus_r_z'])\n",
    "\n",
    "# hulp array, met alle parameters die voor de classifier gebruikt worden, je kan hier alles in doen wat je wilt\n",
    "param = [ \\\n",
    "          'humerus_l_x', 'humerus_l_y', 'humerus_l_z', 'humerus_r_x', 'humerus_r_y', 'humerus_r_z', \\\n",
    "          'clavicula_l_x', 'clavicula_l_y', 'clavicula_l_z', 'clavicula_r_x', 'clavicula_r_y', 'clavicula_r_z', \\\n",
    "          'scapula_l_x', 'scapula_l_y', 'scapula_l_z', 'scapula_r_x', 'scapula_r_y', 'scapula_r_z', \\\n",
    "          'clavicula_x_dif','clavicula_y_dif','clavicula_z_dif', \\\n",
    "          'scapula_x_dif','scapula_y_dif','scapula_z_dif', \\\n",
    "          'humerus_x_dif', 'humerus_y_dif', 'humerus_z_dif'\n",
    "         ]\n",
    "\n",
    "df_cleaned['bias'] = 1\n",
    "\n",
    "# split oorsprong kolom in onderdelen\n",
    "x,y = df_cleaned['Oorsprong'].str.split(\".\").str #Oordprong word vertaald naar een string en wordt gesplits op de punt\n",
    "df_cleaned['cat'],df_cleaned['pat'],df_cleaned['meting'],df_cleaned['oef'] = x.str.split(\"_\").str #4 categorieen gemaakt obv file name\n",
    "df_cleaned['cat'] = [ int(x[3:]) for x in df_cleaned['cat']] #voor elk 3+ element in de kolom wordt vertaald naar een int\n",
    "df_cleaned['meting'] = [ int(x[6:]) for x in df_cleaned['meting']] \n",
    "df_cleaned['oef'] = [ int(x[3:]) for x in df_cleaned['oef']] \n",
    "df_cleaned['pat'] = [ int(x[3:]) for x in df_cleaned['pat']] \n",
    "#na deze regels te hebben uitgevoerd zijn er nieuwe categorieen met ints.\n",
    "\n",
    "df_cleaned['pat'] = df_cleaned['cat']*1000+df_cleaned['pat'] #geef elke patient een uniek nummer\n",
    "\n",
    "#maak boolean kolom per categorie\n",
    "df_cleaned['c4'] = ['Cat4' in vincent for vincent in df_cleaned['Oorsprong']]\n",
    "df_cleaned['c3'] = ['Cat3' in vincent for vincent in df_cleaned['Oorsprong']]\n",
    "df_cleaned['c2'] = ['Cat2' in vincent for vincent in df_cleaned['Oorsprong']]\n",
    "df_cleaned['c1'] = ['Cat1' in vincent for vincent in df_cleaned['Oorsprong']]\n",
    "\n",
    "#hulpvariabele geeft aan welke categorie we willen onderscheiden\n",
    "class_2b_found = 'c4'\n",
    "\n",
    "Xcolumns = ['bias']\n",
    "Xcolumns.extend(param)\n",
    "\n",
    "X2 = Xcolumns\n",
    "\n",
    "# \n",
    "X = df_cleaned[Xcolumns]\n",
    "y = df_cleaned[class_2b_found]\n",
    "\n",
    "\n",
    "X_train, X_test, y_train, y_test = train_test_split(X, y, test_size = 0.2, random_state=42)"
   ]
  },
  {
   "cell_type": "code",
   "execution_count": null,
   "metadata": {
    "scrolled": true
   },
   "outputs": [],
   "source": [
    "# De keuze voor een classifier is \"LogisticRegression\", vandaar dat lr= LogisticRegression\n",
    "lr = LogisticRegression()\n",
    "\n",
    "# Fit het model, met de train data (80 % )\n",
    "lr.fit(X_train, y_train)\n",
    "\n",
    "# predict of de test data goed past bij deze LogisticRegression\n",
    "y_pred = lr.predict(X_test)\n",
    "\n",
    "# print de accuratie score\n",
    "print('Accuratie test set')\n",
    "print(metrics.accuracy_score(y_test, y_pred))\n",
    "\n",
    "y_pred = lr.predict(X_train)\n",
    "print('Accuratie trainings set')\n",
    "print(metrics.accuracy_score(y_train, y_pred))"
   ]
  },
  {
   "cell_type": "code",
   "execution_count": null,
   "metadata": {},
   "outputs": [],
   "source": [
    "ParamCheck = pd.DataFrame()\n",
    "ParamCheck['Params'] = list(df_cleaned[Xcolumns])\n",
    "ParamCheck['Values'] = list(lr.coef_)[0]\n",
    "ParamCheck['Absolute'] = np.absolute(list(ParamCheck['Values']))\n",
    "ParamCheck = ParamCheck.sort_values(by=['Absolute'],ascending=False)\n",
    "print(ParamCheck)"
   ]
  },
  {
   "cell_type": "code",
   "execution_count": null,
   "metadata": {
    "scrolled": true
   },
   "outputs": [],
   "source": [
    "thetacopy = lr.coef_.flatten()"
   ]
  },
  {
   "cell_type": "code",
   "execution_count": null,
   "metadata": {},
   "outputs": [],
   "source": [
    "# functie om plot van 2 van de variabelen uit de tabel df_cleaned te maken\n",
    "def scatter(param1, param2):\n",
    "    cat4 = df_cleaned.where(df_cleaned['c4'])\n",
    "    cat3 = df_cleaned.where(df_cleaned['c3'])\n",
    "    cat2 = df_cleaned.where(df_cleaned['c2'])\n",
    "    cat1 = df_cleaned.where(df_cleaned['c1'])\n",
    "       \n",
    "    plt.plot(cat3[param1], cat3[param2], '.', color='red', markersize=2)\n",
    "    plt.plot(cat1[param1], cat1[param2], '.', color='cyan', markersize=2)\n",
    "    plt.plot(cat2[param1], cat2[param2], '.', color='green', markersize=2)\n",
    "    plt.plot(cat4[param1], cat4[param2], '.', color='blue', markersize=2)\n",
    "    plt.title(param1+'/'+param2)\n",
    "    plt.ylabel(param1)\n",
    "    plt.xlabel(param2);\n",
    "    \n",
    "def plot_decision_boundary(theta):\n",
    "    ax = plt.gca()\n",
    "    x_min, x_max = ax.get_xlim()\n",
    "    y_min, y_max = ax.get_ylim()\n",
    "    print(x_min,x_max)\n",
    "    xx, yy = np.meshgrid(np.arange(x_min, x_max, 1),\n",
    "                         np.arange(y_min, y_max, 1))\n",
    "\n",
    "    X = np.matrix(np.vstack([np.ones(xx.shape[0] * xx.shape[1]), xx.ravel(), yy.ravel()])).T\n",
    "    boundary = logit(X * theta)\n",
    "    boundary = boundary.reshape(xx.shape)\n",
    "\n",
    "    ax.contour(xx, yy,\n",
    "           boundary,\n",
    "           levels=[0.5])\n",
    "\n",
    "# maak plotje van 2 variabelen\n",
    "\n",
    "p1 = 5\n",
    "p2 = 17\n",
    "scatter(param[p1-1],param[p2-1])\n",
    "selectedtheta = np.array([theta[0], theta[p1], theta[p2]])\n",
    "selectedtheta = np.reshape(selectedtheta,(3,1))\n",
    "plot_decision_boundary(selectedtheta)\n",
    "\n",
    "\n",
    "tmp = [theta[0], theta[p1], theta[p2]]\n",
    "\n",
    "print(tmp)\n"
   ]
  },
  {
   "cell_type": "code",
   "execution_count": null,
   "metadata": {},
   "outputs": [],
   "source": [
    "tmptheta = np.reshape(theta, (-1, 1))\n",
    "X = np.matrix(df_cleaned[Xcolumns])\n",
    "print(X)\n",
    "print(tmptheta)"
   ]
  },
  {
   "cell_type": "markdown",
   "metadata": {},
   "source": [
    "## Einde LogisticRegression\n",
    "\n",
    "# Begin KKN regression"
   ]
  },
  {
   "cell_type": "code",
   "execution_count": null,
   "metadata": {
    "scrolled": false
   },
   "outputs": [],
   "source": [
    "#\n",
    "# Gevectoriseerde variant om recal en precision uit te rekenen (is sneller)\n",
    "#\n",
    "x = predict(X, tmptheta)\n",
    "\n",
    "# bereken True Positives\n",
    "def TruePositives(y_pred, y_real):\n",
    "    return sum(y_pred*y_real)\n",
    "\n",
    "# xx = np.squeeze(np.asarray(x))\n",
    "# yy = np.squeeze(np.asarray(y))\n",
    "# TP = sum(xx*yy)\n",
    "TP = TruePositives(np.squeeze(np.asarray(x)), np.squeeze(np.asarray(y)))\n",
    "\n",
    "# bereken False Positives\n",
    "xx = np.squeeze(np.asarray(x))\n",
    "yy = np.squeeze(np.asarray(~y))\n",
    "FP = sum(xx*yy)\n",
    "\n",
    "xx = np.squeeze(np.asarray(~x))\n",
    "yy = np.squeeze(np.asarray(~y))\n",
    "TN = sum(xx*yy)\n",
    "\n",
    "xx = np.squeeze(np.asarray(~x))\n",
    "yy = np.squeeze(np.asarray(y))\n",
    "FN = sum(xx*yy)\n",
    "\n",
    "# tabel printen\n",
    "tab = [[\"pred pos\", TP, FP], [\"pred neg\", FN, TN]]\n",
    "print(pd.DataFrame(tab, columns=[\"\", \"pos\", \"neg\"]))\n",
    "print()\n",
    "print(\"recall\", TP/(TP+FN))\n",
    "print(\"precision\", TP/(TP+FP))\n",
    "print(\"accuracy\", (TP+TN)/(TP+TN+FP+FN))\n"
   ]
  },
  {
   "cell_type": "code",
   "execution_count": null,
   "metadata": {},
   "outputs": [],
   "source": [
    "# ## test set\n",
    "# df = df_cleaned[df_cleaned.index % 2 == 1] \n",
    "# X2 = np.matrix(df[Xcolumns])\n",
    "# y2 = np.matrix(df[[class_2b_found]])\n",
    "\n",
    "# x = predict(X_test, theta)\n",
    "\n",
    "# TP = 0\n",
    "# for i in range(x.shape[0]):\n",
    "#     if x[i] == y2[i] == True:\n",
    "#         TP = TP+1\n",
    "\n",
    "# TN = 0\n",
    "# for i in range(x.shape[0]):\n",
    "#     if x[i] == y2[i] == False:\n",
    "#         TN = TN+1\n",
    "\n",
    "# FP = 0\n",
    "# for i in range(x.shape[0]):\n",
    "#     if (x[i] == True) and (y2[i] == False):\n",
    "#         FP = FP+1\n",
    "\n",
    "# FN = 0\n",
    "# for i in range(x.shape[0]):\n",
    "#     if (x[i] == False) and (y2[i] == True):\n",
    "#         FN = FN+1\n",
    "\n",
    "# tab = [[\"pred pos\", TP, FP], [\"pred neg\", FN, TN]]\n",
    "# print(\"resultaten op testset\")\n",
    "# print(pd.DataFrame(tab, columns=[\"\", \"pos\", \"neg\"]))\n",
    "# print()\n",
    "# print(\"recall\", TP/(TP+FN))\n",
    "# print(\"precision\", TP/(TP+FP))\n",
    "# print(\"accuracy\", (TP+TN)/(TP+TN+FP+FN))\n"
   ]
  },
  {
   "cell_type": "code",
   "execution_count": null,
   "metadata": {
    "scrolled": true
   },
   "outputs": [],
   "source": [
    "def logit(z):\n",
    "    return 1.0 / (1.0 + np.exp(-z))\n",
    "\n",
    "def h(X, theta):\n",
    "    return logit(X * theta)\n",
    "\n",
    "def predict(X, theta):\n",
    "    return h(X, theta) >= 0.5\n"
   ]
  },
  {
   "cell_type": "code",
   "execution_count": null,
   "metadata": {},
   "outputs": [],
   "source": [
    "print(df_cleaned)"
   ]
  },
  {
   "cell_type": "markdown",
   "metadata": {},
   "source": []
  },
  {
   "cell_type": "code",
   "execution_count": null,
   "metadata": {},
   "outputs": [],
   "source": [
    "# kolom met voorspelling toevoegen aan data\n",
    "# predict of de test data goed past bij deze LogisticRegression\n",
    "df_cleaned['predict'] = lr.predict(X)"
   ]
  },
  {
   "cell_type": "code",
   "execution_count": null,
   "metadata": {},
   "outputs": [],
   "source": [
    "## maak tabel (df4) met per patient het aantal sampels dat true en false gelabeld wordt.\n",
    "\n",
    "# aantal false tellen\n",
    "df2 = df_cleaned.groupby(['pat','predict']).size().to_frame('countF').reset_index()\n",
    "df2 = df2.where(df2['predict'] == False).dropna()\n",
    "df2 = df2.set_index('pat')\n",
    "\n",
    "# aantal true tellen\n",
    "df3 = df_cleaned.groupby(['pat','predict']).size().to_frame('countT').reset_index()\n",
    "df3 = df3.where(df3['predict'] == True).dropna()\n",
    "df3 = df3.set_index('pat')\n",
    "\n",
    "# join df2 en df3\n",
    "df4 = pd.concat([df2, df3], axis=1)\n",
    "df4.drop(['predict','predict'], axis=1, inplace=True)\n",
    "df4.fillna(0, inplace=True)"
   ]
  },
  {
   "cell_type": "code",
   "execution_count": null,
   "metadata": {},
   "outputs": [],
   "source": [
    "# bereken percentage\n",
    "df4['percentage'] = 100*df4['countT'] / (df4['countT'] + df4['countF'])\n",
    "df4.sort_values(by=['percentage'],ascending=False).head(30)"
   ]
  },
  {
   "cell_type": "code",
   "execution_count": null,
   "metadata": {},
   "outputs": [],
   "source": [
    "print(theta)"
   ]
  },
  {
   "cell_type": "code",
   "execution_count": null,
   "metadata": {},
   "outputs": [],
   "source": [
    "plt.plot(theta)\n",
    "plt.ylabel(\"Theta plotted\")\n",
    "plt.show()"
   ]
  },
  {
   "cell_type": "code",
   "execution_count": null,
   "metadata": {},
   "outputs": [],
   "source": []
  },
  {
   "cell_type": "code",
   "execution_count": null,
   "metadata": {},
   "outputs": [],
   "source": []
  },
  {
   "cell_type": "code",
   "execution_count": null,
   "metadata": {},
   "outputs": [],
   "source": []
  }
 ],
 "metadata": {
  "kernelspec": {
   "display_name": "Python 3",
   "language": "python",
   "name": "python3"
  },
  "language_info": {
   "codemirror_mode": {
    "name": "ipython",
    "version": 3
   },
   "file_extension": ".py",
   "mimetype": "text/x-python",
   "name": "python",
   "nbconvert_exporter": "python",
   "pygments_lexer": "ipython3",
   "version": "3.6.7"
  }
 },
 "nbformat": 4,
 "nbformat_minor": 2
}
