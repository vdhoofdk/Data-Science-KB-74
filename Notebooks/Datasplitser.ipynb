{
 "cells": [
  {
   "cell_type": "code",
   "execution_count": null,
   "metadata": {},
   "outputs": [],
   "source": [
    "import numpy as np\n",
    "import pandas as pd\n",
    "import matplotlib.pyplot as plt\n",
    "from mpl_toolkits.mplot3d import Axes3D\n",
    "import time\n",
    "%matplotlib notebook\n",
    "import load_raw as Raw\n",
    "from sklearn.linear_model import LinearRegression\n",
    "import math\n",
    "from os import listdir"
   ]
  },
  {
   "cell_type": "markdown",
   "metadata": {},
   "source": [
    "# Laad de data in\n",
    "Bestand Cat3_pat36_meting1_oef4.csv als voorbeeld van DATA"
   ]
  },
  {
   "cell_type": "code",
   "execution_count": null,
   "metadata": {
    "scrolled": false
   },
   "outputs": [],
   "source": [
    "df_cleaned = pd.read_csv('/data/ortho/Cat3_pat36_meting1_oef4.csv', header=None)\n",
    "\n",
    "df_cleaned = df_cleaned.rename(columns={0: \"thorax_r_x\", 1: \"thorax_r_y\", 2: \"thorax_r_z\"})\n",
    "df_cleaned = df_cleaned.rename(columns={3: \"clavicula_r_x\", 4: \"clavicula_r_y\", 5: \"clavicula_r_z\"})\n",
    "df_cleaned = df_cleaned.rename(columns={6: \"scapula_r_x\", 7: \"scapula_r_y\", 8: \"scapula_r_z\"})\n",
    "df_cleaned = df_cleaned.rename(columns={9: \"humerus_r_x\", 10: \"humerus_r_y\", 11: \"humerus_r_z\"})\n",
    "df_cleaned = df_cleaned.rename(columns={12: \"ellebooghoek_r\"})\n",
    "df_cleaned = df_cleaned.rename(columns={15: \"thorax_l_x\", 16: \"thorax_l_y\", 17: \"thorax_l_z\"})\n",
    "df_cleaned = df_cleaned.rename(columns={18: \"clavicula_l_x\", 19: \"clavicula_l_y\", 20: \"clavicula_l_z\"})\n",
    "df_cleaned = df_cleaned.rename(columns={21: \"scapula_l_x\", 22: \"scapula_l_y\", 23: \"scapula_l_z\"})\n",
    "df_cleaned = df_cleaned.rename(columns={24: \"humerus_l_x\", 25: \"humerus_l_y\", 26: \"humerus_l_z\"})\n",
    "df_cleaned = df_cleaned.rename(columns={27: \"ellebooghoek_l\"})\n",
    "print(df_cleaned)"
   ]
  },
  {
   "cell_type": "markdown",
   "metadata": {},
   "source": [
    "# Hoe ziet de data er nu uit\n",
    "Wordt niet gebruikt later"
   ]
  },
  {
   "cell_type": "code",
   "execution_count": null,
   "metadata": {
    "scrolled": false
   },
   "outputs": [],
   "source": [
    "# ax1 = df_cleaned.plot.scatter(x='clavicula_r_x', y='clavicula_l_x',  c='blue', label='x')\n",
    "# ax1.set_xlim(-40,5)\n",
    "# ax1.set_ylim(-40,5)\n",
    "# ax1.legend()\n",
    "# ax1.grid()"
   ]
  },
  {
   "cell_type": "markdown",
   "metadata": {},
   "source": [
    "# Regression zone\n",
    "In de volgende 3 cellen wordt de regressie gemaakt"
   ]
  },
  {
   "cell_type": "code",
   "execution_count": null,
   "metadata": {},
   "outputs": [],
   "source": [
    "# Wordt met .copy() gekopieerd ipv verwezen\n",
    "data = df_cleaned[['clavicula_r_x', 'clavicula_l_x']].copy()\n",
    "\n",
    "lr = LinearRegression()\n",
    "lr.fit(data[['clavicula_r_x']], data['clavicula_l_x'])\n",
    "# lr.intercept_, lr.coef_ # hiermee wordt theta gevuld"
   ]
  },
  {
   "cell_type": "code",
   "execution_count": null,
   "metadata": {},
   "outputs": [],
   "source": [
    "plt.close()\n",
    "data['bias'] = 1\n",
    "theta = np.matrix([lr.intercept_, lr.coef_[0]]).T\n",
    "# print(data)\n",
    "X = np.matrix(data[['bias', 'clavicula_r_x']])\n",
    "y = np.matrix(data[['clavicula_l_x']])\n",
    "costs = []\n",
    "for rico in range(-157,139):\n",
    "    theta[1] = rico\n",
    "    yh = X * theta\n",
    "    d = yh - y\n",
    "    j = d.T * d\n",
    "    costs.append(j[0,0])\n",
    "print(len(costs))\n",
    "# plt.plot(range(-157,139), costs)\n",
    "# plt.title(r'optimaliseren van $\\theta_1$')\n",
    "# plt.ylabel(r'$J(\\theta)$')\n",
    "# plt.xlabel(r'$\\theta_1$')\n"
   ]
  },
  {
   "cell_type": "code",
   "execution_count": null,
   "metadata": {},
   "outputs": [],
   "source": [
    "\n",
    "data.plot.scatter(x='clavicula_r_x', y='clavicula_l_x')\n",
    "plt.title('Schouder Rechts vs Links')\n",
    "plt.xlabel('clavicula_r_x')\n",
    "plt.ylabel('clavicula_l_x')\n",
    "line_x = np.matrix([[1, -40], [1 ,5]]) # 1 in de eerste kolom is de bias\n",
    "theta = np.matrix([lr.intercept_, lr.coef_[0]]).T\n",
    "line_y = line_x * theta\n",
    "plt.plot(line_x[:, 1], line_y, '-', color='red')"
   ]
  },
  {
   "cell_type": "markdown",
   "metadata": {},
   "source": [
    "# Standaard deviatie\n"
   ]
  },
  {
   "cell_type": "code",
   "execution_count": null,
   "metadata": {},
   "outputs": [],
   "source": [
    "df_cleaned[['clavicula_r_x', 'clavicula_l_x']]\n",
    "RXavg = df_cleaned['clavicula_r_x'].mean()\n",
    "RXs = math.sqrt(sum([(i-RXavg) ** 2 for i in df_cleaned['clavicula_r_x']])/(len(df_cleaned['clavicula_r_x'])-1))\n",
    "\n",
    "LXavg = df_cleaned['clavicula_l_x'].mean()\n",
    "LXs = math.sqrt(sum([(i-LXavg) ** 2 for i in df_cleaned['clavicula_l_x']])/(len(df_cleaned['clavicula_l_x'])-1))\n",
    "\n",
    "\n",
    "print(RXs,LXs)"
   ]
  },
  {
   "cell_type": "markdown",
   "metadata": {},
   "source": [
    "# Putting csv files in one file (testdata & normal data)"
   ]
  },
  {
   "cell_type": "code",
   "execution_count": null,
   "metadata": {
    "scrolled": true
   },
   "outputs": [],
   "source": [
    "origurl = '/datb/ortho/'\n",
    "\n",
    "i = 0\n",
    "\n",
    "#----------- 90 % of data (testdata excluded)\n",
    "testpatientlist = []\n",
    "\n",
    "testdataurl = '/data/ortho/testset/'\n",
    "for PatientFile in listdir(testdataurl):\n",
    "    testpatientlist.append(PatientFile)\n",
    "        \n",
    "for categorie in listdir(origurl):\n",
    "    url = origurl + categorie + '/'\n",
    "    \n",
    "    # URL looks like: /datb/ortho/Cat1/\n",
    "    for num, OefeningDir in enumerate(listdir(url)):\n",
    "        caturl = url + OefeningDir + '/'\n",
    "        posx = num % 2\n",
    "        posy = math.floor(num /2)\n",
    "        # URL looks like: /datb/ortho/Cat1/Oefening1/\n",
    "        for PatientFile in listdir(caturl):\n",
    "            \n",
    "            if PatientFile in testpatientlist:\n",
    "                print('%s skipped' % PatientFile)\n",
    "            else:\n",
    "            \n",
    "                df_cleaned = pd.read_csv(caturl+'/'+PatientFile, header=None)\n",
    "\n",
    "                df_cleaned = df_cleaned.rename(columns={0: \"thorax_r_x\", 1: \"thorax_r_y\", 2: \"thorax_r_z\"})\n",
    "                df_cleaned = df_cleaned.rename(columns={3: \"clavicula_r_x\", 4: \"clavicula_r_y\", 5: \"clavicula_r_z\"})\n",
    "                df_cleaned = df_cleaned.rename(columns={6: \"scapula_r_x\", 7: \"scapula_r_y\", 8: \"scapula_r_z\"})\n",
    "                df_cleaned = df_cleaned.rename(columns={9: \"humerus_r_x\", 10: \"humerus_r_y\", 11: \"humerus_r_z\"})\n",
    "                df_cleaned = df_cleaned.rename(columns={12: \"ellebooghoek_r\"})\n",
    "                df_cleaned = df_cleaned.rename(columns={15: \"thorax_l_x\", 16: \"thorax_l_y\", 17: \"thorax_l_z\"})\n",
    "                df_cleaned = df_cleaned.rename(columns={18: \"clavicula_l_x\", 19: \"clavicula_l_y\", 20: \"clavicula_l_z\"})\n",
    "                df_cleaned = df_cleaned.rename(columns={21: \"scapula_l_x\", 22: \"scapula_l_y\", 23: \"scapula_l_z\"})\n",
    "                df_cleaned = df_cleaned.rename(columns={24: \"humerus_l_x\", 25: \"humerus_l_y\", 26: \"humerus_l_z\"})\n",
    "                df_cleaned = df_cleaned.rename(columns={27: \"ellebooghoek_l\"})\n",
    "                df_cleaned['Oorsprong'] = PatientFile\n",
    "            \n",
    "                if i == 0:\n",
    "                    df_cleaned.to_csv('AllPatients.csv',sep=';')\n",
    "                    i=i+1\n",
    "                else:\n",
    "                    with open('AllPatients.csv', 'a') as f:\n",
    "                        df_cleaned.to_csv(f, header=False,sep=';')\n",
    "                    \n",
    "                print('Done: %s' % PatientFile)\n",
    "            \n",
    "#---------------- The 10% putting the testdata into 1 file\n",
    "\n",
    "caturl = '/data/ortho/testset/'\n",
    "\n",
    "i = 0\n",
    "    \n",
    "for PatientFile in listdir(caturl):\n",
    "    df_cleaned = pd.read_csv(caturl+'/'+PatientFile, header=None)\n",
    "\n",
    "    df_cleaned = df_cleaned.rename(columns={0: \"thorax_r_x\", 1: \"thorax_r_y\", 2: \"thorax_r_z\"})\n",
    "    df_cleaned = df_cleaned.rename(columns={3: \"clavicula_r_x\", 4: \"clavicula_r_y\", 5: \"clavicula_r_z\"})\n",
    "    df_cleaned = df_cleaned.rename(columns={6: \"scapula_r_x\", 7: \"scapula_r_y\", 8: \"scapula_r_z\"})\n",
    "    df_cleaned = df_cleaned.rename(columns={9: \"humerus_r_x\", 10: \"humerus_r_y\", 11: \"humerus_r_z\"})\n",
    "    df_cleaned = df_cleaned.rename(columns={12: \"ellebooghoek_r\"})\n",
    "    df_cleaned = df_cleaned.rename(columns={15: \"thorax_l_x\", 16: \"thorax_l_y\", 17: \"thorax_l_z\"})\n",
    "    df_cleaned = df_cleaned.rename(columns={18: \"clavicula_l_x\", 19: \"clavicula_l_y\", 20: \"clavicula_l_z\"})\n",
    "    df_cleaned = df_cleaned.rename(columns={21: \"scapula_l_x\", 22: \"scapula_l_y\", 23: \"scapula_l_z\"})\n",
    "    df_cleaned = df_cleaned.rename(columns={24: \"humerus_l_x\", 25: \"humerus_l_y\", 26: \"humerus_l_z\"})\n",
    "    df_cleaned = df_cleaned.rename(columns={27: \"ellebooghoek_l\"})\n",
    "    df_cleaned['Oorsprong'] = PatientFile\n",
    "            \n",
    "    if i == 0:\n",
    "        df_cleaned.to_csv('TestDataAllPatients.csv',sep=';')\n",
    "        i=i+1\n",
    "    else:\n",
    "        with open('TestDataAllPatients.csv', 'a') as f:\n",
    "            df_cleaned.to_csv(f, header=False,sep=';')\n",
    "                    \n",
    "    print('Done: %s' % PatientFile)\n",
    "            "
   ]
  },
  {
   "cell_type": "code",
   "execution_count": null,
   "metadata": {},
   "outputs": [],
   "source": []
  }
 ],
 "metadata": {
  "kernelspec": {
   "display_name": "Python 3",
   "language": "python",
   "name": "python3"
  },
  "language_info": {
   "codemirror_mode": {
    "name": "ipython",
    "version": 3
   },
   "file_extension": ".py",
   "mimetype": "text/x-python",
   "name": "python",
   "nbconvert_exporter": "python",
   "pygments_lexer": "ipython3",
   "version": "3.6.7"
  }
 },
 "nbformat": 4,
 "nbformat_minor": 2
}
