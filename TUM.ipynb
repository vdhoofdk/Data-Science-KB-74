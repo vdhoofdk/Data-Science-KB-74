{
 "cells": [
  {
   "cell_type": "code",
   "execution_count": 32,
   "metadata": {},
   "outputs": [
    {
     "name": "stdout",
     "output_type": "stream",
     "text": [
      "Dobbel 1 is: 4 (o)\n",
      "Dobbel 2 is: 3 (i)\n",
      "\n",
      "Hij heet vandaag: Tom Limpers\n"
     ]
    }
   ],
   "source": [
    "import random\n",
    "\n",
    "timdict = {1:\"a\", 2:\"e\", 3:\"i\", 4:\"o\", 5:\"u\"}\n",
    "\n",
    "dobbel1 = random.randint(1,5)\n",
    "dobbel2 = random.randint(1,5)\n",
    "\n",
    "letter1 = timdict[dobbel1]\n",
    "letter2 = timdict[dobbel2]\n",
    "\n",
    "print(\"Dobbel 1 is: \"+str(dobbel1)+\" (\"+letter1+\")\")\n",
    "print(\"Dobbel 2 is: \"+str(dobbel2)+\" (\"+letter2+\")\")\n",
    "print()\n",
    "print(\"Hij heet vandaag: T\"+letter1+\"m L\"+letter2+\"mpers\")\n"
   ]
  },
  {
   "cell_type": "code",
   "execution_count": null,
   "metadata": {},
   "outputs": [],
   "source": []
  },
  {
   "cell_type": "code",
   "execution_count": null,
   "metadata": {},
   "outputs": [],
   "source": []
  },
  {
   "cell_type": "code",
   "execution_count": null,
   "metadata": {},
   "outputs": [],
   "source": []
  }
 ],
 "metadata": {
  "kernelspec": {
   "display_name": "Python 3",
   "language": "python",
   "name": "python3"
  },
  "language_info": {
   "codemirror_mode": {
    "name": "ipython",
    "version": 3
   },
   "file_extension": ".py",
   "mimetype": "text/x-python",
   "name": "python",
   "nbconvert_exporter": "python",
   "pygments_lexer": "ipython3",
   "version": "3.6.6"
  }
 },
 "nbformat": 4,
 "nbformat_minor": 2
}
