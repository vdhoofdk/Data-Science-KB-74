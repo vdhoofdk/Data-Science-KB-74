{
 "cells": [
  {
   "cell_type": "markdown",
   "metadata": {},
   "source": [
    "# 9 Evaluate\n",
    "\n",
    "So now we have prepared our data for our final analysis. Naturally, we are curious to see how much it matters if we properly explore and prepare our data. In this small example, we will compare the accuracy of a simple linear regression algorithm that was learned on the original data and one that is learned on the transformed data."
   ]
  },
  {
   "cell_type": "code",
   "execution_count": 1,
   "metadata": {},
   "outputs": [],
   "source": [
    "import pandas as pd\n",
    "import numpy as np\n",
    "import warnings\n",
    "import statsmodels.formula.api as sm\n",
    "warnings.filterwarnings('ignore')"
   ]
  },
  {
   "cell_type": "code",
   "execution_count": 2,
   "metadata": {},
   "outputs": [],
   "source": [
    "df = pd.read_csv('train.csv') # use training set to learn a prediction model\n",
    "df_test = pd.read_csv('test.csv') # use a separate test set to evaluate the accuracy of your model"
   ]
  },
  {
   "cell_type": "code",
   "execution_count": 3,
   "metadata": {},
   "outputs": [],
   "source": [
    "#applying log transformation\n",
    "df['SalePriceL'] = np.log(df.SalePrice)\n",
    "df['GrLivAreaL'] = np.log(df.GrLivArea)\n",
    "df_test['GrLivAreaL'] = np.log(df_test.GrLivArea)"
   ]
  },
  {
   "cell_type": "markdown",
   "metadata": {},
   "source": [
    "Fit a linear line to the data, to optimally predict SalePrice given a value for GrLivArea."
   ]
  },
  {
   "cell_type": "code",
   "execution_count": 4,
   "metadata": {},
   "outputs": [],
   "source": [
    "model = sm.ols(formula=\"SalePrice ~ GrLivArea\", data=df).fit()"
   ]
  },
  {
   "cell_type": "markdown",
   "metadata": {},
   "source": [
    "Use the learned model (line) to predict salesprices for the cases in the test set."
   ]
  },
  {
   "cell_type": "code",
   "execution_count": 5,
   "metadata": {},
   "outputs": [],
   "source": [
    "df_test['SalePrice'] = model.predict(df_test)"
   ]
  },
  {
   "cell_type": "code",
   "execution_count": 6,
   "metadata": {},
   "outputs": [],
   "source": [
    "testraw = df_test[['Id', 'SalePrice']]"
   ]
  },
  {
   "cell_type": "markdown",
   "metadata": {},
   "source": [
    "The test set does not contain the actual sales prices, so we have to submit the file to Kaggle to get an evaluation metric. Write Id and SalePrice to a CSV file, that can be submitted on Kaggle."
   ]
  },
  {
   "cell_type": "code",
   "execution_count": 7,
   "metadata": {},
   "outputs": [],
   "source": [
    "df_test[['Id', 'SalePrice']].to_csv('testraw', index=False)"
   ]
  },
  {
   "cell_type": "markdown",
   "metadata": {},
   "source": [
    "The score on Kaggle reads: 0.28918\n",
    "\n",
    "This score is based on the root mean squared error (the most common evaluation metric used for linear regression). Lower is better.\n",
    "\n",
    "Do the same for the transformed data."
   ]
  },
  {
   "cell_type": "code",
   "execution_count": 8,
   "metadata": {},
   "outputs": [],
   "source": [
    "modell = sm.ols(formula=\"SalePriceL ~ GrLivAreaL\", data=df).fit()"
   ]
  },
  {
   "cell_type": "code",
   "execution_count": 9,
   "metadata": {},
   "outputs": [],
   "source": [
    "df_test['SalePrice'] = modell.predict(df_test)"
   ]
  },
  {
   "cell_type": "markdown",
   "metadata": {},
   "source": [
    "Since we tranformed price to log, the model returns log(expected Price), so we have to invert the function to get the actual price. The inverse of a `log` function is an `exponential` function."
   ]
  },
  {
   "cell_type": "code",
   "execution_count": 10,
   "metadata": {},
   "outputs": [],
   "source": [
    "df_test.SalePrice = np.exp(df_test.SalePrice)"
   ]
  },
  {
   "cell_type": "code",
   "execution_count": 11,
   "metadata": {},
   "outputs": [],
   "source": [
    "df_test[['Id', 'SalePrice']].to_csv('testtransformed', index=False)"
   ]
  },
  {
   "cell_type": "markdown",
   "metadata": {},
   "source": [
    "The score on Kaggle reads 0.28796"
   ]
  }
 ],
 "metadata": {
  "kernelspec": {
   "display_name": "Python 3",
   "language": "python",
   "name": "python3"
  },
  "language_info": {
   "codemirror_mode": {
    "name": "ipython",
    "version": 3
   },
   "file_extension": ".py",
   "mimetype": "text/x-python",
   "name": "python",
   "nbconvert_exporter": "python",
   "pygments_lexer": "ipython3",
   "version": "3.6.6"
  }
 },
 "nbformat": 4,
 "nbformat_minor": 2
}
